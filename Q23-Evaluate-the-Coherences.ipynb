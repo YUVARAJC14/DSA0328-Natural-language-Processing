{
  "nbformat": 4,
  "nbformat_minor": 0,
  "metadata": {
    "colab": {
      "provenance": [],
      "authorship_tag": "ABX9TyMlAvwWPMH/4AF6SBl5/2oo",
      "include_colab_link": true
    },
    "kernelspec": {
      "name": "python3",
      "display_name": "Python 3"
    },
    "language_info": {
      "name": "python"
    }
  },
  "cells": [
    {
      "cell_type": "markdown",
      "metadata": {
        "id": "view-in-github",
        "colab_type": "text"
      },
      "source": [
        "<a href=\"https://colab.research.google.com/github/YUVARAJC14/DSA0328-Natural-language-Processing/blob/main/Q23-Evaluate-the-Coherences.ipynb\" target=\"_parent\"><img src=\"https://colab.research.google.com/assets/colab-badge.svg\" alt=\"Open In Colab\"/></a>"
      ]
    },
    {
      "cell_type": "code",
      "execution_count": 3,
      "metadata": {
        "colab": {
          "base_uri": "https://localhost:8080/"
        },
        "id": "zi8CybvAckrX",
        "outputId": "bd73775f-38f0-4955-d822-a5bf1584fc2a"
      },
      "outputs": [
        {
          "output_type": "stream",
          "name": "stdout",
          "text": [
            "Coherence score: 1.0000000000000002\n"
          ]
        },
        {
          "output_type": "stream",
          "name": "stderr",
          "text": [
            "[nltk_data] Downloading package punkt to /root/nltk_data...\n",
            "[nltk_data]   Package punkt is already up-to-date!\n",
            "[nltk_data] Downloading package punkt_tab to /root/nltk_data...\n",
            "[nltk_data]   Package punkt_tab is already up-to-date!\n",
            "[nltk_data] Downloading package stopwords to /root/nltk_data...\n",
            "[nltk_data]   Package stopwords is already up-to-date!\n"
          ]
        }
      ],
      "source": [
        "import nltk\n",
        "from nltk.corpus import stopwords\n",
        "from nltk.tokenize import word_tokenize\n",
        "from nltk.probability import FreqDist\n",
        "from sklearn.metrics.pairwise import cosine_similarity\n",
        "import numpy as np\n",
        "\n",
        "nltk.download('punkt')\n",
        "nltk.download('punkt_tab')\n",
        "nltk.download('stopwords')\n",
        "\n",
        "def calculate_text_coherence(text):\n",
        "  \"\"\"\n",
        "  Calculates the coherence of a given text using cosine similarity between word frequencies.\n",
        "\n",
        "  Args:\n",
        "    text: The input text string.\n",
        "\n",
        "  Returns:\n",
        "    A float representing the coherence score (0 to 1), with higher values indicating higher coherence.\n",
        "  \"\"\"\n",
        "\n",
        "  # Tokenize the text and remove stop words\n",
        "  tokens = word_tokenize(text.lower())\n",
        "  stop_words = set(stopwords.words('english'))\n",
        "  filtered_tokens = [w for w in tokens if not w in stop_words]\n",
        "\n",
        "  # Calculate word frequencies\n",
        "  freq_dist = FreqDist(filtered_tokens)\n",
        "\n",
        "  # Create a word-frequency vector\n",
        "  word_vector = np.array([freq_dist[word] for word in freq_dist])\n",
        "\n",
        "  # Calculate cosine similarity between word frequencies\n",
        "  # (This measures how similar the frequency distribution is to itself,\n",
        "  #  effectively measuring the consistency of word usage)\n",
        "  coherence_score = cosine_similarity(word_vector.reshape(1, -1), word_vector.reshape(1, -1))[0][0]\n",
        "\n",
        "  return coherence_score\n",
        "\n",
        "\n",
        "# Example usage\n",
        "text = \"The cat sat on the mat. The cat was black and fluffy. The mat was blue.\"\n",
        "coherence = calculate_text_coherence(text)\n",
        "print(f\"Coherence score: {coherence}\")"
      ]
    }
  ]
}
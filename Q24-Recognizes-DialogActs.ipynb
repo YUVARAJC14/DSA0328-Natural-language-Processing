{
  "nbformat": 4,
  "nbformat_minor": 0,
  "metadata": {
    "colab": {
      "provenance": [],
      "authorship_tag": "ABX9TyNxyQzF27tRVimMS0o+chQa",
      "include_colab_link": true
    },
    "kernelspec": {
      "name": "python3",
      "display_name": "Python 3"
    },
    "language_info": {
      "name": "python"
    }
  },
  "cells": [
    {
      "cell_type": "markdown",
      "metadata": {
        "id": "view-in-github",
        "colab_type": "text"
      },
      "source": [
        "<a href=\"https://colab.research.google.com/github/YUVARAJC14/DSA0328-Natural-language-Processing/blob/main/Q24-Recognizes-DialogActs.ipynb\" target=\"_parent\"><img src=\"https://colab.research.google.com/assets/colab-badge.svg\" alt=\"Open In Colab\"/></a>"
      ]
    },
    {
      "cell_type": "code",
      "execution_count": 4,
      "metadata": {
        "colab": {
          "base_uri": "https://localhost:8080/"
        },
        "id": "zi8CybvAckrX",
        "outputId": "b7404eec-35f6-46ad-cb71-0106ab027f73"
      },
      "outputs": [
        {
          "output_type": "stream",
          "name": "stderr",
          "text": [
            "[nltk_data] Downloading package brown to /root/nltk_data...\n"
          ]
        },
        {
          "output_type": "stream",
          "name": "stdout",
          "text": [
            "Turn: Hello, how are you? \n",
            "Dialog Act: greeting\n",
            "\n",
            "Turn: I'm doing well, thank you. \n",
            "Dialog Act: thanking\n",
            "\n",
            "Turn: What are you up to? \n",
            "Dialog Act: question\n",
            "\n",
            "Turn: I'm working on a project. \n",
            "Dialog Act: statement\n",
            "\n",
            "Turn: That's great. Good luck! \n",
            "Dialog Act: statement\n",
            "\n",
            "Turn: Thanks, I appreciate it. \n",
            "Dialog Act: thanking\n",
            "\n"
          ]
        },
        {
          "output_type": "stream",
          "name": "stderr",
          "text": [
            "[nltk_data]   Unzipping corpora/brown.zip.\n",
            "[nltk_data] Downloading package punkt to /root/nltk_data...\n",
            "[nltk_data]   Package punkt is already up-to-date!\n"
          ]
        }
      ],
      "source": [
        "# prompt: Create a python program that recognizes dialog acts in a given dialog or conversation\n",
        "\n",
        "import nltk\n",
        "from nltk.corpus import brown\n",
        "\n",
        "# Download necessary resources if not already present\n",
        "nltk.download('brown')\n",
        "nltk.download('punkt')\n",
        "\n",
        "def recognize_dialog_acts(dialog):\n",
        "  \"\"\"\n",
        "  Recognizes dialog acts in a given dialog or conversation.\n",
        "\n",
        "  Args:\n",
        "    dialog: A list of strings, where each string represents a turn in the dialog.\n",
        "\n",
        "  Returns:\n",
        "    A list of tuples, where each tuple contains a turn and its corresponding dialog act.\n",
        "  \"\"\"\n",
        "\n",
        "  dialog_acts = []\n",
        "  for turn in dialog:\n",
        "    # Perform basic preprocessing (e.g., tokenization)\n",
        "    tokens = nltk.word_tokenize(turn)\n",
        "\n",
        "    # Use a simple rule-based approach to identify dialog acts\n",
        "    # You can replace this with more sophisticated techniques like machine learning\n",
        "    if any(word in turn.lower() for word in ['hello', 'hi', 'greetings']):\n",
        "      dialog_acts.append((turn, 'greeting'))\n",
        "    elif any(word in turn.lower() for word in ['thank', 'thanks']):\n",
        "      dialog_acts.append((turn, 'thanking'))\n",
        "    elif any(word in turn.lower() for word in ['yes', 'no', 'maybe']):\n",
        "      dialog_acts.append((turn, 'answer'))\n",
        "    elif any(word in turn.lower() for word in ['question', 'what', 'when', 'where', 'why', 'how']):\n",
        "      dialog_acts.append((turn, 'question'))\n",
        "    elif any(word in turn.lower() for word in ['sorry', 'apologize']):\n",
        "      dialog_acts.append((turn, 'apology'))\n",
        "    else:\n",
        "      dialog_acts.append((turn, 'statement'))\n",
        "\n",
        "  return dialog_acts\n",
        "\n",
        "\n",
        "# Example usage:\n",
        "dialog = [\n",
        "    \"Hello, how are you?\",\n",
        "    \"I'm doing well, thank you.\",\n",
        "    \"What are you up to?\",\n",
        "    \"I'm working on a project.\",\n",
        "    \"That's great. Good luck!\",\n",
        "    \"Thanks, I appreciate it.\"\n",
        "]\n",
        "\n",
        "dialog_acts = recognize_dialog_acts(dialog)\n",
        "for turn, act in dialog_acts:\n",
        "  print(f\"Turn: {turn} \\nDialog Act: {act}\\n\")\n",
        "\n"
      ]
    }
  ]
}